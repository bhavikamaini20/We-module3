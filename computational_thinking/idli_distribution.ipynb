def distribute_idlis(citizens):
    return distribute_helper(citizens, 0)

def distribute_helper(citizens, idx):
    if idx >= len(citizens):
        return 0

    if is_even(citizens[idx]):
        return distribute_helper(citizens, idx + 1)

    if idx == len(citizens) - 1:
        return -1

    distribute_to_next(citizens, idx)
    next_distribution = distribute_helper(citizens, idx + 1)

    if next_distribution == -1:
        return -1

    return 1 + next_distribution

def is_even(num):
    return num % 2 == 0

def distribute_to_next(citizens, idx):
    citizens[idx] += 1
    citizens[idx + 1] += 1

# Test cases
test_cases = [
    [2, 4, 6, 8],
    [1, 3, 5, 7],
    [2, 3, 5, 6],
    [2, 4, 5, 7],
    [1],
    [],
    list(range(2, 101))
]

for idx, test_case in enumerate(test_cases):
    print(f"Test case {idx + 1}: {test_case}")
    print("Minimum number of idlis to distribute:", distribute_idlis(test_case))
    print()
     
Test case 1: [2, 4, 6, 8]
Minimum number of idlis to distribute: 0

Test case 2: [1, 3, 5, 7]
Minimum number of idlis to distribute: 2

Test case 3: [2, 3, 5, 6]
Minimum number of idlis to distribute: 1

Test case 4: [2, 4, 5, 7]
Minimum number of idlis to distribute: 1

Test case 5: [1]
Minimum number of idlis to distribute: -1

Test case 6: []
Minimum number of idlis to distribute: 0

Test case 7: [2, 3, 4, 5, 6, 7, 8, 9, 10, 11, 12, 13, 14, 15, 16, 17, 18, 19, 20, 21, 22, 23, 24, 25, 26, 27, 28, 29, 30, 31, 32, 33, 34, 35, 36, 37, 38, 39, 40, 41, 42, 43, 44, 45, 46, 47, 48, 49, 50, 51, 52, 53, 54, 55, 56, 57, 58, 59, 60, 61, 62, 63, 64, 65, 66, 67, 68, 69, 70, 71, 72, 73, 74, 75, 76, 77, 78, 79, 80, 81, 82, 83, 84, 85, 86, 87, 88, 89, 90, 91, 92, 93, 94, 95, 96, 97, 98, 99, 100]
Minimum number of idlis to distribute: -1
