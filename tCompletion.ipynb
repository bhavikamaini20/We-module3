{
  "nbformat": 4,
  "nbformat_minor": 0,
  "metadata": {
    "colab": {
      "provenance": [],
      "authorship_tag": "ABX9TyObBRD5iYW6Sk+f4vpnWS+9",
      "include_colab_link": true
    },
    "kernelspec": {
      "name": "python3",
      "display_name": "Python 3"
    },
    "language_info": {
      "name": "python"
    }
  },
  "cells": [
    {
      "cell_type": "markdown",
      "metadata": {
        "id": "view-in-github",
        "colab_type": "text"
      },
      "source": [
        "<a href=\"https://colab.research.google.com/github/bhavikamaini20/We-module3/blob/main/tCompletion.ipynb\" target=\"_parent\"><img src=\"https://colab.research.google.com/assets/colab-badge.svg\" alt=\"Open In Colab\"/></a>"
      ]
    },
    {
      "cell_type": "code",
      "execution_count": 1,
      "metadata": {
        "colab": {
          "base_uri": "https://localhost:8080/"
        },
        "id": "braECMCwA89Z",
        "outputId": "7c7eb781-6cc2-43de-c0f2-5df31d7d93ce"
      },
      "outputs": [
        {
          "output_type": "stream",
          "name": "stdout",
          "text": [
            "the model will learn the original text the probabilities of\n"
          ]
        }
      ],
      "source": [
        "import random\n",
        "from collections import defaultdict\n",
        "\n",
        "def generate_text(word_dict, start_word, output_length, chain_length=10):\n",
        "    \"\"\"\n",
        "    Generates text recursively using a Markov chain model, with a maximum chain length.\n",
        "\n",
        "    Args:\n",
        "        word_dict: A dictionary representing word transitions.\n",
        "        start_word: The word to start the generated text.\n",
        "        output_length: The desired length of the generated text.\n",
        "        chain_length: The maximum length of the word chain to consider (default 10).\n",
        "\n",
        "    Returns:\n",
        "        A string containing the generated text.\n",
        "    \"\"\"\n",
        "\n",
        "    if output_length <= 0:\n",
        "        return \"\"\n",
        "\n",
        "    if chain_length <= 0:\n",
        "        next_word = random.choice(list(word_dict[start_word].keys()))\n",
        "        return f\"{start_word} {generate_text(word_dict, next_word, output_length - 1, chain_length)}\"\n",
        "\n",
        "    next_word = select_next_word(word_dict, start_word)\n",
        "    if chain_length == 1:\n",
        "        return f\"{start_word}\"\n",
        "    else:\n",
        "        return f\"{start_word} {generate_text(word_dict, next_word, output_length - 1, chain_length - 1)}\"\n",
        "\n",
        "def select_next_word(word_dict, current_word):\n",
        "    \"\"\"Selects the next word based on probabilities or a random choice.\"\"\"\n",
        "\n",
        "    if current_word not in word_dict:\n",
        "        return random.choice(list(word_dict.keys()))\n",
        "\n",
        "    word_choices = list(word_dict[current_word].keys())\n",
        "    word_probs = [word_dict[current_word][word] / sum(word_dict[current_word].values()) for word in word_choices]\n",
        "    return random.choices(word_choices, word_probs)[0]\n",
        "\n",
        "# Sample text corpus (replace with your own corpus or file reading logic)\n",
        "text_corpus = \"This is a sample text corpus. It contains various words and phrases that can be used to generate new text. The model will learn the probabilities of word transitions and use them to create a sequence of words that resembles the original text.\"\n",
        "\n",
        "# Clean the corpus text\n",
        "corpus_text = text_corpus.lower().replace(\",\", \"\").replace(\".\", \"\").replace(\"!\", \"\").replace(\"?\", \"\")\n",
        "words = corpus_text.split()\n",
        "\n",
        "# Create a dictionary to store word transitions\n",
        "word_dict = defaultdict(lambda: defaultdict(int))\n",
        "for i in range(len(words) - 1):\n",
        "    current_word, next_word = words[i], words[i + 1]\n",
        "    word_dict[current_word][next_word] += 1\n",
        "\n",
        "# Example usage\n",
        "text = generate_text(word_dict, start_word=\"the\", output_length=10)\n",
        "print(text)\n"
      ]
    },
    {
      "cell_type": "code",
      "source": [
        "# Test case 1: Basic Functionality\n",
        "start_word = \"the\"\n",
        "output_length = 5\n",
        "chain_length = 5\n",
        "text = generate_text(word_dict, start_word=start_word, output_length=output_length, chain_length=chain_length)\n",
        "\n",
        "# Verify the output starts with \"the\" and is 5 words long\n",
        "if text.startswith(start_word) and len(text.split()) == output_length:\n",
        "    print(\"Test case 1 passed: Basic functionality works!\")\n",
        "else:\n",
        "    print(\"Test case 1 failed: Output doesn't meet expectations.\")\n"
      ],
      "metadata": {
        "colab": {
          "base_uri": "https://localhost:8080/"
        },
        "id": "hOF2fpa-Bfph",
        "outputId": "3d308685-874f-4de9-fcf1-ea72dc9bfc06"
      },
      "execution_count": 2,
      "outputs": [
        {
          "output_type": "stream",
          "name": "stdout",
          "text": [
            "Test case 1 passed: Basic functionality works!\n"
          ]
        }
      ]
    },
    {
      "cell_type": "code",
      "source": [
        "# Test case 2: Handling Unknown Start Word\n",
        "start_word = \"zebra\"\n",
        "output_length = 7\n",
        "chain_length = 1\n",
        "text = generate_text(word_dict, start_word=start_word, output_length=output_length, chain_length=chain_length)\n",
        "print(text)\n",
        "\n",
        "# No specific verification needed for this test case\n",
        "print(\"Test case 2 passed: Code should generate text starting with 'zebra' even if it's not in the corpus.\")\n"
      ],
      "metadata": {
        "colab": {
          "base_uri": "https://localhost:8080/"
        },
        "id": "HQ41wzfgBnmW",
        "outputId": "358c1557-60a8-4430-c81b-47b22ff7921e"
      },
      "execution_count": 3,
      "outputs": [
        {
          "output_type": "stream",
          "name": "stdout",
          "text": [
            "zebra\n",
            "Test case 2 passed: Code should generate text starting with 'zebra' even if it's not in the corpus.\n"
          ]
        }
      ]
    },
    {
      "cell_type": "code",
      "source": [
        "# Test case 3: Edge Case - Empty Corpus\n",
        "empty_word_dict = {}  # Create an empty dictionary to simulate an empty corpus\n",
        "\n",
        "# Handle the empty corpus case gracefully (e.g., return an error or default text)\n",
        "try:\n",
        "    text = generate_text(empty_word_dict, start_word=\"any\", output_length=3)\n",
        "    print(text)\n",
        "except (IndexError, KeyError) as e:  # Catch potential errors related to empty dictionary access\n",
        "    print(f\"Test case 3 failed: Code did not handle empty corpus gracefully. Error: {e}\")\n",
        "else:\n",
        "    if text == \"\":\n",
        "        print(\"Test case 3 passed: Code handles empty corpus gracefully.\")\n",
        "    else:\n",
        "        print(\"Test case 3 failed: Code did not handle empty corpus gracefully. Unexpected output.\")\n",
        "\n"
      ],
      "metadata": {
        "colab": {
          "base_uri": "https://localhost:8080/"
        },
        "id": "WkbsEK99B2HN",
        "outputId": "ca44eef6-7e26-4792-faf6-43de8f140e77"
      },
      "execution_count": 5,
      "outputs": [
        {
          "output_type": "stream",
          "name": "stdout",
          "text": [
            "Test case 3 failed: Code did not handle empty corpus gracefully. Error: list index out of range\n"
          ]
        }
      ]
    },
    {
      "cell_type": "code",
      "source": [
        "# Test case 4: Zero Output Length\n",
        "try:\n",
        "    text = generate_text(word_dict, start_word=\"is\", output_length=0)\n",
        "    if text == \"\":\n",
        "        print(\"Test case 4 passed: Code handled zero output length gracefully. Output is empty.\")\n",
        "    else:\n",
        "        print(\"Test case 4 failed: Code did not handle zero output length gracefully. Unexpected output.\")\n",
        "except ValueError as e:\n",
        "    print(f\"Test case 4 failed: Code raised an unexpected error for zero output length. Error: {e}\")\n"
      ],
      "metadata": {
        "colab": {
          "base_uri": "https://localhost:8080/"
        },
        "id": "8m_TTR9GCHYP",
        "outputId": "24ef299b-f60d-456b-b21a-bdc7fead3ace"
      },
      "execution_count": 6,
      "outputs": [
        {
          "output_type": "stream",
          "name": "stdout",
          "text": [
            "Test case 4 passed: Code handled zero output length gracefully. Output is empty.\n"
          ]
        }
      ]
    },
    {
      "cell_type": "code",
      "source": [
        "# Test case 5: Very Long Output Length\n",
        "\n",
        "# Adjust this value based on your system resources and desired test length\n",
        "very_long_length = 1000\n",
        "\n",
        "try:\n",
        "  text = generate_text(word_dict, start_word=\"a\", output_length=very_long_length)\n",
        "  # Print only the first few words to avoid overwhelming the console/output\n",
        "  print(f\"Output (first few words): {text[:20]}...\")\n",
        "except (MemoryError, RecursionError) as e:\n",
        "  print(f\"Test case 5 passed: Code should handle very long output lengths gracefully (error: {e}).\")\n"
      ],
      "metadata": {
        "colab": {
          "base_uri": "https://localhost:8080/"
        },
        "id": "CPPznsFlCQTj",
        "outputId": "4ad6d734-8249-4a91-bc40-67d7901c1b27"
      },
      "execution_count": 7,
      "outputs": [
        {
          "output_type": "stream",
          "name": "stdout",
          "text": [
            "Output (first few words): a sequence of word t...\n"
          ]
        }
      ]
    },
    {
      "cell_type": "code",
      "source": [
        "# Test case 6: Non-string starting word (should raise TypeError)\n",
        "try:\n",
        "    text = generate_text(word_dict, start_word=10, output_length=5)  # Pass an integer as starting word\n",
        "    print(\"Test case 6 failed: Code did not raise an error for non-string starting word.\")\n",
        "except TypeError as e:\n",
        "    print(f\"Test case 6 passed: Code raised an error for non-string starting word (error: {e}).\")\n",
        "except Exception as e:\n",
        "    print(f\"Test case 6 failed: Code raised an unexpected error ({type(e).__name__}): {e}\")\n"
      ],
      "metadata": {
        "colab": {
          "base_uri": "https://localhost:8080/"
        },
        "id": "fWPW3crDCWM_",
        "outputId": "11ecdeaa-bdad-4353-8fd8-a3219ef15ac0"
      },
      "execution_count": 8,
      "outputs": [
        {
          "output_type": "stream",
          "name": "stdout",
          "text": [
            "Test case 6 failed: Code did not raise an error for non-string starting word.\n"
          ]
        }
      ]
    },
    {
      "cell_type": "code",
      "source": [
        "# Test case 7: Non-numeric output length (should raise TypeError)\n",
        "try:\n",
        "    text = generate_text(word_dict, start_word=\"once\", output_length=\"ten\")  # Pass a string as output length\n",
        "    print(\"Test case 7 failed: Code did not raise an error for non-numeric output length.\")\n",
        "except TypeError as e:\n",
        "    print(f\"Test case 7 passed: Code raised an error for non-numeric output length (error: {e}).\")\n",
        "except Exception as e:\n",
        "    print(f\"Test case 7 failed: Code raised an unexpected error ({type(e).__name__}): {e}\")\n"
      ],
      "metadata": {
        "colab": {
          "base_uri": "https://localhost:8080/"
        },
        "id": "c_TFvPzgCdJI",
        "outputId": "30e53da6-fd8c-43eb-81cd-02252b8f03f3"
      },
      "execution_count": 9,
      "outputs": [
        {
          "output_type": "stream",
          "name": "stdout",
          "text": [
            "Test case 7 passed: Code raised an error for non-numeric output length (error: '<=' not supported between instances of 'str' and 'int').\n"
          ]
        }
      ]
    }
  ]
}