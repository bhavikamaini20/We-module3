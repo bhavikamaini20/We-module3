{
  "nbformat": 4,
  "nbformat_minor": 0,
  "metadata": {
    "colab": {
      "provenance": [],
      "authorship_tag": "ABX9TyMh6ufT0/HrM8QIrRXC97JH",
      "include_colab_link": true
    },
    "kernelspec": {
      "name": "python3",
      "display_name": "Python 3"
    },
    "language_info": {
      "name": "python"
    }
  },
  "cells": [
    {
      "cell_type": "markdown",
      "metadata": {
        "id": "view-in-github",
        "colab_type": "text"
      },
      "source": [
        "<a href=\"https://colab.research.google.com/github/bhavikamaini20/We-module3/blob/main/yahtzee1.ipynb\" target=\"_parent\"><img src=\"https://colab.research.google.com/assets/colab-badge.svg\" alt=\"Open In Colab\"/></a>"
      ]
    },
    {
      "cell_type": "code",
      "execution_count": null,
      "metadata": {
        "id": "q77X1ecx9g0Y"
      },
      "outputs": [],
      "source": [
        "import random\n",
        "\n",
        "def roll_dice(num_dice: int) -> list[int]:\n",
        "  \"\"\"\n",
        "  Simulates rolling a specified number of dice.\n",
        "\n",
        "  Args:\n",
        "      num_dice: The number of dice to roll.\n",
        "\n",
        "  Returns:\n",
        "      A list of integers representing the rolled dice values (1-6).\n",
        "  \"\"\"\n",
        "  if num_dice <= 0:\n",
        "    raise ValueError(\"Number of dice must be positive.\")\n",
        "\n",
        "  return [random.randint(1, 6) for _ in range(num_dice)]\n"
      ]
    },
    {
      "cell_type": "code",
      "source": [
        "def calculate_score(dice: list[int], category: str) -> int:\n",
        "    \"\"\"\n",
        "    Calculates the score for a specific Yahtzee category for a given dice roll.\n",
        "\n",
        "    Args:\n",
        "        dice: A list of integers representing the rolled dice values (1-6).\n",
        "        category: A string representing the Yahtzee category name (lowercase).\n",
        "\n",
        "    Returns:\n",
        "        An integer representing the score for the specified category,\n",
        "        or 0 if the category is invalid.\n",
        "    \"\"\"\n",
        "\n",
        "    # Validate input dice (all values between 1 and 6)\n",
        "    if not all(1 <= die <= 6 for die in dice):\n",
        "        return 0  # Invalid dice values\n",
        "\n",
        "    # Dictionary to store category scoring logic (replace with your actual implementation)\n",
        "    scores = {\n",
        "        \"yahtzee\": lambda dice: 50 if all(die == dice[0] for die in dice[1:]) else 0,\n",
        "        \"full_house\": lambda dice: 25 if len(set(dice)) == 2 and (dice.count(dice[0]) in [2, 3]) else 0,\n",
        "        # Add logic for other categories\n",
        "    }\n",
        "\n",
        "    # Handle valid category and return score\n",
        "    return scores.get(category.lower(), lambda _: 0)(dice)\n"
      ],
      "metadata": {
        "id": "khi76CR-9zCc"
      },
      "execution_count": null,
      "outputs": []
    },
    {
      "cell_type": "code",
      "source": [
        "def score(dice: list[int]) -> dict[str, int]:\n",
        "    \"\"\"\n",
        "    Calculates the score for each Yahtzee category for a given dice roll.\n",
        "\n",
        "    Args:\n",
        "        dice: A list of integers representing the rolled dice values (1-6).\n",
        "\n",
        "    Returns:\n",
        "        A dictionary where keys are Yahtzee category names (strings) and values are\n",
        "        corresponding scores (integers).\n",
        "    \"\"\"\n",
        "    ones = sum(die == 1 for die in dice)\n",
        "    twos = sum(die == 2 for die in dice)\n",
        "    threes = sum(die == 3 for die in dice)\n",
        "    fours = sum(die == 4 for die in dice)\n",
        "    fives = sum(die == 5 for die in dice)\n",
        "    sixes = sum(die == 6 for die in dice)\n",
        "\n",
        "    three_of_a_kind = sum(dice) if len(set(dice)) <= 3 else 0\n",
        "    four_of_a_kind = sum(dice) if len(set(dice)) <= 2 else 0\n",
        "\n",
        "    full_house = 25 if len(set(dice)) == 2 and (dice.count(dice[0]) in [2, 3]) else 0\n",
        "    small_straight = 30 if sorted(dice) in ([1, 2, 3, 4], [2, 3, 4, 5]) else 0\n",
        "    large_straight = 40 if sorted(dice) in ([1, 2, 3, 4, 5], [2, 3, 4, 5, 6]) else 0\n",
        "\n",
        "    yahtzee = 50 if all(dice.count(val) == 1 for val in dice) else 0\n",
        "    chance = sum(dice)\n",
        "\n",
        "    return {\n",
        "        \"ones\": ones,\n",
        "        \"twos\": twos,\n",
        "        \"threes\": threes,\n",
        "        \"fours\": fours,\n",
        "        \"fives\": fives,\n",
        "        \"sixes\": sixes,\n",
        "        \"three_of_a_kind\": three_of_a_kind,\n",
        "        \"four_of_a_kind\": four_of_a_kind,\n",
        "        \"full_house\": full_house,\n",
        "        \"small_straight\": small_straight,\n",
        "        \"large_straight\": large_straight,\n",
        "        \"yahtzee\": yahtzee,\n",
        "        \"chance\": chance,\n",
        "    }\n"
      ],
      "metadata": {
        "id": "nZrlaNNk91HN"
      },
      "execution_count": null,
      "outputs": []
    },
    {
      "cell_type": "code",
      "source": [
        "def choose_best_move_simple(dice: list[int], available_scores: dict[str, bool]) -> str:\n",
        "    \"\"\"\n",
        "    Chooses the best move (category) based on the highest fixed score\n",
        "    among available categories.\n",
        "\n",
        "    Args:\n",
        "        dice: A list of integers representing the rolled dice values (1-6).\n",
        "        available_scores: A dictionary where keys are Yahtzee category names\n",
        "                           (strings) and values are True/False indicating\n",
        "                           availability.\n",
        "\n",
        "    Returns:\n",
        "        A string representing the Yahtzee category with the highest\n",
        "        fixed score (e.g., Yahtzee, Full House) among available categories.\n",
        "        If no available category provides a fixed high score, it returns \"re-roll\".\n",
        "    \"\"\"\n",
        "    best_score = 0\n",
        "    best_category = None\n",
        "    for category, available in available_scores.items():\n",
        "        if available:\n",
        "            category_score = calculate_score(dice, category)\n",
        "            if category_score > best_score and category_score in (50, 40, 25):  # Fixed high-scoring categories\n",
        "                best_score = category_score\n",
        "                best_category = category\n",
        "    return best_category or \"re-roll\"\n"
      ],
      "metadata": {
        "id": "moaZtop0-Aro"
      },
      "execution_count": null,
      "outputs": []
    },
    {
      "cell_type": "code",
      "source": [
        "def show_dice(dice: list[int]) -> None:\n",
        "    \"\"\"\n",
        "    Displays the rolled dice values.\n",
        "\n",
        "    Args:\n",
        "        dice: A list of integers representing the rolled dice values (1-6).\n",
        "\n",
        "    Returns:\n",
        "        None\n",
        "    \"\"\"\n",
        "    print(\"Rolled Dice:\")\n",
        "    for index, die in enumerate(dice, start=1):\n",
        "        print(f\"[Die {index}]: {die}\")\n"
      ],
      "metadata": {
        "id": "s4tBbTMg-LWr"
      },
      "execution_count": null,
      "outputs": []
    },
    {
      "cell_type": "code",
      "source": [
        "def show_scores(available_scores: dict[str, bool], rolled_dice: list[int]) -> None:\n",
        "    \"\"\"\n",
        "    Displays the available Yahtzee categories and their potential scores.\n",
        "\n",
        "    Args:\n",
        "        available_scores: A dictionary where keys are Yahtzee category names\n",
        "                           (strings) and values are True/False indicating\n",
        "                           availability.\n",
        "        rolled_dice: A list of integers representing the rolled dice values (1-6).\n",
        "\n",
        "    Returns:\n",
        "        None\n",
        "    \"\"\"\n",
        "    print(\"Available Categories:\")\n",
        "    for category, available in available_scores.items():\n",
        "        if available:\n",
        "            score = calculate_score(rolled_dice, category)\n",
        "            print(f\"{category}: {score} (Available)\")\n",
        "        else:\n",
        "            print(f\"{category}: Not Available\")\n"
      ],
      "metadata": {
        "id": "SEjZQu8e-W1u"
      },
      "execution_count": null,
      "outputs": []
    },
    {
      "cell_type": "code",
      "source": [
        "def track_score_history(score: int, round_num: int, score_history: list[tuple[int, int]]) -> None:\n",
        "    \"\"\"\n",
        "    Keeps track of the score history for each round.\n",
        "\n",
        "    Args:\n",
        "        score: An integer representing the score achieved in the current round.\n",
        "        round_num: An integer representing the current round number.\n",
        "        score_history: A list to store the history of scores, represented as (round, score) tuples.\n",
        "\n",
        "    Returns:\n",
        "        None\n",
        "    \"\"\"\n",
        "    score_history.append((round_num, score))\n",
        "    print(f\"Round {round_num} Score: {score}\")  # Print current round score\n"
      ],
      "metadata": {
        "id": "OaHUS8SZ-hIn"
      },
      "execution_count": null,
      "outputs": []
    },
    {
      "cell_type": "code",
      "source": [
        "import unittest\n",
        "import random\n",
        "\n",
        "# Define the roll_dice function (assuming it's not already defined elsewhere)\n",
        "def roll_dice(num_dice):\n",
        "  \"\"\"\n",
        "  Simulates rolling a specified number of dice.\n",
        "\n",
        "  Args:\n",
        "      num_dice: An integer representing the number of dice to roll.\n",
        "\n",
        "  Returns:\n",
        "      A list of integers representing the rolled dice values (1-6).\n",
        "  \"\"\"\n",
        "  if num_dice <= 0:\n",
        "    raise ValueError(\"Number of dice must be a positive integer.\")\n",
        "\n",
        "  return [random.randint(1, 6) for _ in range(num_dice)]\n",
        "\n",
        "# Test Cases (adapted as functions for easier execution)\n",
        "def test_roll_dice_5():\n",
        "  \"\"\"Test rolling 5 dice, expect a list of 5 random integers between 1 and 6.\"\"\"\n",
        "  rolled_dice = roll_dice(5)\n",
        "  if len(rolled_dice) != 5:\n",
        "    print(\"Error: Incorrect number of dice rolled.\")\n",
        "    return\n",
        "  for die in rolled_dice:\n",
        "    if not (1 <= die <= 6):\n",
        "      print(\"Error: Die value outside valid range (1-6).\")\n",
        "      return\n",
        "  print(\"Test Passed: Roll_dice(5) returned a valid list of 5 dice values.\")\n",
        "\n",
        "def test_roll_dice_0():\n",
        "  \"\"\"Test rolling 0 dice, expect a ValueError for invalid input.\"\"\"\n",
        "  try:\n",
        "    roll_dice(0)\n",
        "  except ValueError as e:\n",
        "    print(\"Test Passed: Roll_dice(0) raised a ValueError:\", e)\n",
        "  else:\n",
        "    print(\"Error: Roll_dice(0) did not raise a ValueError.\")\n",
        "\n",
        "def test_roll_dice_multiple():\n",
        "  \"\"\"Test rolling dice multiple times, verify different results.\"\"\"\n",
        "  rolls = [roll_dice(5) for _ in range(3)]\n",
        "  if rolls[0] == rolls[1]:\n",
        "    print(\"Error: Consecutive rolls produced identical results.\")\n",
        "  elif rolls[1] == rolls[2]:\n",
        "    print(\"Error: Consecutive rolls produced identical results.\")\n",
        "  else:\n",
        "    print(\"Test Passed: Multiple rolls produced different results.\")\n",
        "\n",
        "# Execute Test Cases\n",
        "test_roll_dice_5()\n",
        "test_roll_dice_0()\n",
        "test_roll_dice_multiple()\n",
        "\n"
      ],
      "metadata": {
        "colab": {
          "base_uri": "https://localhost:8080/"
        },
        "id": "0wBp_kbS-0eD",
        "outputId": "e4cfe496-05a6-4026-d04c-313f97c3dc23"
      },
      "execution_count": null,
      "outputs": [
        {
          "output_type": "stream",
          "name": "stdout",
          "text": [
            "Test Passed: Roll_dice(5) returned a valid list of 5 dice values.\n",
            "Test Passed: Roll_dice(0) raised a ValueError: Number of dice must be a positive integer.\n",
            "Test Passed: Multiple rolls produced different results.\n"
          ]
        }
      ]
    }
  ]
}